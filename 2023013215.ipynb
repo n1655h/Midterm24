{
  "nbformat": 4,
  "nbformat_minor": 0,
  "metadata": {
    "colab": {
      "provenance": [],
      "authorship_tag": "ABX9TyPRUapFq37CFEKsBeBnJnHp",
      "include_colab_link": true
    },
    "kernelspec": {
      "name": "python3",
      "display_name": "Python 3"
    },
    "language_info": {
      "name": "python"
    }
  },
  "cells": [
    {
      "cell_type": "markdown",
      "metadata": {
        "id": "view-in-github",
        "colab_type": "text"
      },
      "source": [
        "<a href=\"https://colab.research.google.com/github/n1655h/Midterm24/blob/main/2023013215.ipynb\" target=\"_parent\"><img src=\"https://colab.research.google.com/assets/colab-badge.svg\" alt=\"Open In Colab\"/></a>"
      ]
    },
    {
      "cell_type": "markdown",
      "source": [
        "#🌀Midterm 2024: Nahyeon Lee"
      ],
      "metadata": {
        "id": "r8cVEgaYZzxN"
      }
    },
    {
      "cell_type": "markdown",
      "source": [
        "## Index Question"
      ],
      "metadata": {
        "id": "DUB8a-f9ct3L"
      }
    },
    {
      "cell_type": "code",
      "source": [
        "# Dropdown\n",
        "\n",
        "cardinal_number = \"1\" #@param = [\"1\",\"2\",\"3\",\"4\"]\n",
        "\n",
        "# Add one line of code below\n",
        "cardinal_number = int(cardinal_number)\n",
        "\n",
        "# Ordinal expression as a list\n",
        "\n",
        "words = [\"First\", \"Second\", \"Third\",\"Fourth\"]\n",
        "\n",
        "print(\"The ordinal expression:\", words[0])"
      ],
      "metadata": {
        "colab": {
          "base_uri": "https://localhost:8080/",
          "height": 0
        },
        "id": "u-5yThuMchN0",
        "outputId": "f113ea2e-9dd3-4757-b57e-6c5dffe8f55a"
      },
      "execution_count": 45,
      "outputs": [
        {
          "output_type": "stream",
          "name": "stdout",
          "text": [
            "The ordinal expression: First\n"
          ]
        }
      ]
    },
    {
      "cell_type": "markdown",
      "source": [
        "## Variable Question"
      ],
      "metadata": {
        "id": "9aNtbWYxcmrE"
      }
    },
    {
      "cell_type": "code",
      "source": [
        "#input='Mary,1998,Ohio;and John,1999,Boston.'\n",
        "x=input();y=input();z=input()\n",
        "print(\"Hello, my name is \" + x + \".\" + \"I was born in\"+ y+\".\"+ \"I'm from \"+ z +\".\"+\"Nice to meet you.\")"
      ],
      "metadata": {
        "id": "N62jzNB0cj6T"
      },
      "execution_count": null,
      "outputs": []
    },
    {
      "cell_type": "markdown",
      "source": [
        "##Name Question"
      ],
      "metadata": {
        "id": "poQkiPAQeASK"
      }
    },
    {
      "cell_type": "code",
      "source": [
        "#Name Question\n",
        "x=\"My name is\"\n",
        "y=\"Nahyeon Lee.\"\n",
        "print(x,y)"
      ],
      "metadata": {
        "colab": {
          "base_uri": "https://localhost:8080/",
          "height": 0
        },
        "id": "EwJN2Sfsd_wL",
        "outputId": "d13525eb-4519-43db-d80f-3a9d3da42ae0"
      },
      "execution_count": 13,
      "outputs": [
        {
          "output_type": "stream",
          "name": "stdout",
          "text": [
            "My name is Nahyeon Lee.\n"
          ]
        }
      ]
    },
    {
      "cell_type": "markdown",
      "source": [
        "##GTTS Question"
      ],
      "metadata": {
        "id": "Vx99uDbceqJC"
      }
    },
    {
      "cell_type": "code",
      "source": [
        "# First, install the gTTS library if you haven't already\n",
        "!pip install gTTS\n",
        "\n",
        "# Import the gTTS library\n",
        "from gtts import gTTS\n",
        "\n",
        "# Import IPython display module\n",
        "from IPython.display import Audio, display"
      ],
      "metadata": {
        "id": "V3jf74L3eunC"
      },
      "execution_count": null,
      "outputs": []
    },
    {
      "cell_type": "code",
      "source": [
        "# Text to be converted to speech\n",
        "text = \"I have succeded in this task\"\n",
        "\n",
        "# Language in which you want to convert\n",
        "language = 'en'\n",
        "\n",
        "# Pass the text and language to the gTTS module\n",
        "speech = gTTS(text = text, lang = language, slow = False)\n",
        "\n",
        "# Save the converted audio file\n",
        "speech.save(\"output.mp3\")\n",
        "\n",
        "# Display the audio directly in the notebook\n",
        "display(Audio(\"output.mp3\", autoplay=True))"
      ],
      "metadata": {
        "colab": {
          "base_uri": "https://localhost:8080/",
          "height": 74
        },
        "id": "_ZBdjfGJlbPO",
        "outputId": "fdce754b-7467-43cc-d11c-9c19d45f8eec"
      },
      "execution_count": 44,
      "outputs": [
        {
          "output_type": "display_data",
          "data": {
            "text/plain": [
              "<IPython.lib.display.Audio object>"
            ],
            "text/html": [
              "\n",
              "                <audio  controls=\"controls\" autoplay=\"autoplay\">\n",
              "                    <source src=\"data:audio/mpeg;base64,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\" type=\"audio/mpeg\" />\n",
              "                    Your browser does not support the audio element.\n",
              "                </audio>\n",
              "              "
            ]
          },
          "metadata": {}
        }
      ]
    },
    {
      "cell_type": "markdown",
      "source": [
        "##Function Qustion"
      ],
      "metadata": {
        "id": "WJEoeGckeysx"
      }
    },
    {
      "cell_type": "code",
      "source": [
        "# Define a function for multiplication\n",
        "def division(x, y):\n",
        "    return x / y\n",
        "\n",
        "# Test the function\n",
        "result = division(20, 4)\n",
        "print(\"The result of multiplication is:\", result)"
      ],
      "metadata": {
        "colab": {
          "base_uri": "https://localhost:8080/",
          "height": 0
        },
        "id": "kIMGpujVe1dR",
        "outputId": "8054f787-e59d-41aa-bef4-a94e82e847e5"
      },
      "execution_count": 14,
      "outputs": [
        {
          "output_type": "stream",
          "name": "stdout",
          "text": [
            "The result of multiplication is: 5.0\n"
          ]
        }
      ]
    },
    {
      "cell_type": "markdown",
      "source": [
        "##Dictionary Question"
      ],
      "metadata": {
        "id": "bx1tWSOmfIAC"
      }
    },
    {
      "cell_type": "code",
      "source": [
        "grades= {'Bob': 80, 'John': 75, 'Sally':100}\n",
        "name = grades[\"Bob\"]\n",
        "print(name)"
      ],
      "metadata": {
        "colab": {
          "base_uri": "https://localhost:8080/",
          "height": 0
        },
        "id": "jRUcL7wTfNg5",
        "outputId": "295030f7-b9b9-4456-d736-520fd09ccdac"
      },
      "execution_count": 18,
      "outputs": [
        {
          "output_type": "stream",
          "name": "stdout",
          "text": [
            "80\n"
          ]
        }
      ]
    },
    {
      "cell_type": "markdown",
      "source": [
        "##Audio Question\n"
      ],
      "metadata": {
        "id": "57VPcvHkf8HZ"
      }
    },
    {
      "cell_type": "code",
      "source": [
        "import gradio as gr\n",
        "from gtts import gTTS\n",
        "import os\n",
        "\n",
        "def text_to_speech(text, language):\n",
        "    lang_code = 'en' if language == \"English\" else 'ko'\n",
        "    tts = gTTS(text=text, lang=lang_code, slow=False)\n",
        "    tts.save(\"output.mp3\")\n",
        "    return \"output.mp3\"\n",
        "\n",
        "interface = gr.Interface(\n",
        "    fn=text_to_speech,\n",
        "    inputs=[\n",
        "        gr.Textbox(lines=3, label=\"Enter text\"),\n",
        "        gr.Radio(choices=[\"English\", \"Korean\"], label=\"Select language\")\n",
        "    ],\n",
        "    outputs=gr.Audio(type=\"filepath\", label=\"Audio\"),\n",
        "    title=\"Text-to-Speech\",\n",
        "    description=\"Type in some text, select a language, and generate audio.\",\n",
        ")\n",
        "\n",
        "interface.launch()\n"
      ],
      "metadata": {
        "id": "6h-9BLi0gB_6"
      },
      "execution_count": null,
      "outputs": []
    },
    {
      "cell_type": "markdown",
      "source": [
        "##Countdown Question"
      ],
      "metadata": {
        "id": "jQL8aEqigHro"
      }
    },
    {
      "cell_type": "code",
      "source": [
        "import gradio as gr\n",
        "from datetime import datetime\n",
        "\n",
        "def countdown(target_date):\n",
        "    try:\n",
        "        # Parse the user input date\n",
        "        date_format = \"%Y-%m-%d\"\n",
        "        future_date = datetime.strptime(target_date, date_format)\n",
        "\n",
        "        # Get the current time\n",
        "        now = datetime.now()\n",
        "\n",
        "        # Calculate the difference between the future date and the current time\n",
        "        countdown = future_date - now\n",
        "\n",
        "        # Generate the countdown message\n",
        "        if countdown.days >= 0:\n",
        "            return f\"Time until {target_date}: \\n {countdown.days} days, {countdown.seconds//3600} hours, {(countdown.seconds//60)%60} minutes.\"\n",
        "        else:\n",
        "            return \"The specified date has already passed.\"\n",
        "    except ValueError:\n",
        "        return \"Please enter the date in YYYY-MM-DD format.\"\n",
        "\n",
        "# Create the Gradio interface\n",
        "interface = gr.Interface(\n",
        "    fn=countdown,\n",
        "    inputs=gr.Text(label=\"Enter a future date (e.g., 2024-12-25)\"),\n",
        "    outputs=\"text\",\n",
        "    title=\"Date Countdown\",\n",
        "    description=\"Enter a date to see how many days, hours, and minutes are left until the designated date.\"\n",
        ")\n",
        "\n",
        "interface.launch()"
      ],
      "metadata": {
        "id": "DSkot4RSgK6Q"
      },
      "execution_count": null,
      "outputs": []
    }
  ]
}