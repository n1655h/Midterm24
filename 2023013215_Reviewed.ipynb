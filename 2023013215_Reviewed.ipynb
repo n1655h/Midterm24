{
  "nbformat": 4,
  "nbformat_minor": 0,
  "metadata": {
    "colab": {
      "provenance": [],
      "include_colab_link": true
    },
    "kernelspec": {
      "name": "python3",
      "display_name": "Python 3"
    },
    "language_info": {
      "name": "python"
    }
  },
  "cells": [
    {
      "cell_type": "markdown",
      "metadata": {
        "id": "view-in-github",
        "colab_type": "text"
      },
      "source": [
        "<a href=\"https://colab.research.google.com/github/n1655h/Midterm24/blob/main/2023013215_Reviewed.ipynb\" target=\"_parent\"><img src=\"https://colab.research.google.com/assets/colab-badge.svg\" alt=\"Open In Colab\"/></a>"
      ]
    },
    {
      "cell_type": "markdown",
      "source": [
        "#🌀Midterm 2024: Nahyeon Lee\n",
        "\n",
        "(Reviewed by MK316)"
      ],
      "metadata": {
        "id": "r8cVEgaYZzxN"
      }
    },
    {
      "cell_type": "markdown",
      "source": [
        "## Index Question (😏Check my code below): 1/3"
      ],
      "metadata": {
        "id": "DUB8a-f9ct3L"
      }
    },
    {
      "cell_type": "code",
      "source": [
        "# Dropdown\n",
        "\n",
        "cardinal_number = \"1\" #@param = [\"1\",\"2\",\"3\",\"4\"]\n",
        "\n",
        "# Add one line of code below\n",
        "cardinal_number = int(cardinal_number)\n",
        "\n",
        "# Ordinal expression as a list\n",
        "\n",
        "words = [\"First\", \"Second\", \"Third\",\"Fourth\"]\n",
        "\n",
        "print(\"The ordinal expression:\", words[0])"
      ],
      "metadata": {
        "colab": {
          "base_uri": "https://localhost:8080/"
        },
        "id": "u-5yThuMchN0",
        "outputId": "f113ea2e-9dd3-4757-b57e-6c5dffe8f55a",
        "cellView": "form"
      },
      "execution_count": null,
      "outputs": [
        {
          "output_type": "stream",
          "name": "stdout",
          "text": [
            "The ordinal expression: First\n"
          ]
        }
      ]
    },
    {
      "cell_type": "markdown",
      "source": [
        "🚩 Suggested code below: If you use the index [0], you need to change it whenever the user select another one, which is not efficient."
      ],
      "metadata": {
        "id": "ElrkAiXkJEyw"
      }
    },
    {
      "cell_type": "code",
      "source": [
        "# Dropdown\n",
        "\n",
        "cardinal_number = \"4\" #@param = [\"1\",\"2\",\"3\",\"4\"]\n",
        "\n",
        "# Add one line of code below\n",
        "cardinal_number = int(cardinal_number) - 1  # 🚩Matching index\n",
        "\n",
        "# Ordinal expression as a list\n",
        "\n",
        "words = [\"First\", \"Second\",\"Third\",\"Fourth\"]\n",
        "\n",
        "print(\"The ordinal expression:\", words[cardinal_number])"
      ],
      "metadata": {
        "cellView": "form",
        "id": "8s8D5utuJRLM"
      },
      "execution_count": null,
      "outputs": []
    },
    {
      "cell_type": "markdown",
      "source": [
        "## Variable Question (😊Good job!): 2.5/3\n",
        "\n",
        "Also, check my code below"
      ],
      "metadata": {
        "id": "9aNtbWYxcmrE"
      }
    },
    {
      "cell_type": "code",
      "source": [
        "#input='Mary,1998,Ohio;and John,1999,Boston.'\n",
        "x=input();y=input();z=input()\n",
        "print(\"Hello, my name is \" + x + \".\" + \"I was born in\"+ y+\".\"+ \"I'm from \"+ z +\".\"+\"Nice to meet you.\")"
      ],
      "metadata": {
        "id": "N62jzNB0cj6T",
        "outputId": "6a129740-299f-47dd-d371-d76b10e2e3c8",
        "colab": {
          "base_uri": "https://localhost:8080/"
        }
      },
      "execution_count": 1,
      "outputs": [
        {
          "output_type": "stream",
          "name": "stdout",
          "text": [
            "Mary\n",
            "1998\n",
            "Ohio\n",
            "Hello, my name is Mary.I was born in1998.I'm from Ohio.Nice to meet you.\n"
          ]
        }
      ]
    },
    {
      "cell_type": "markdown",
      "source": [
        "🚩 Suggested code below: space is also a data."
      ],
      "metadata": {
        "id": "Zp_zQAMUJyUH"
      }
    },
    {
      "cell_type": "code",
      "source": [
        "x = input(\"Name: \") #name\n",
        "y = input(\"Born in: \") #born_in\n",
        "z = input(\"Home town: \") #hometown\n",
        "\n",
        "text = f\"Hello, my name is {x} and I was born in {y}. I'm from {z}. Nice to meet you!\"\n",
        "print(text)"
      ],
      "metadata": {
        "id": "A9iO593OJzob",
        "outputId": "16f6e856-e399-40a0-88b9-01ea658f17bd",
        "colab": {
          "base_uri": "https://localhost:8080/"
        }
      },
      "execution_count": 2,
      "outputs": [
        {
          "output_type": "stream",
          "name": "stdout",
          "text": [
            "Name: Mary\n",
            "Born in: 1998\n",
            "Home town: Ohio\n",
            "Hello, my name is Mary and I was born in 1998. I'm from Ohio. Nice to meet you!\n"
          ]
        }
      ]
    },
    {
      "cell_type": "markdown",
      "source": [
        "##Name Question(😍You got it!): 3/3"
      ],
      "metadata": {
        "id": "poQkiPAQeASK"
      }
    },
    {
      "cell_type": "code",
      "source": [
        "#Name Question\n",
        "x=\"My name is\"\n",
        "y=\"Nahyeon Lee.\"\n",
        "print(x,y)"
      ],
      "metadata": {
        "colab": {
          "base_uri": "https://localhost:8080/"
        },
        "id": "EwJN2Sfsd_wL",
        "outputId": "3ce5f4ce-0087-47aa-d2bd-9be713135900"
      },
      "execution_count": 3,
      "outputs": [
        {
          "output_type": "stream",
          "name": "stdout",
          "text": [
            "My name is Nahyeon Lee.\n"
          ]
        }
      ]
    },
    {
      "cell_type": "markdown",
      "source": [
        "##GTTS Question(😍You got it!): 3/3"
      ],
      "metadata": {
        "id": "Vx99uDbceqJC"
      }
    },
    {
      "cell_type": "code",
      "source": [
        "# First, install the gTTS library if you haven't already\n",
        "!pip install gTTS\n",
        "\n",
        "# Import the gTTS library\n",
        "from gtts import gTTS\n",
        "\n",
        "# Import IPython display module\n",
        "from IPython.display import Audio, display"
      ],
      "metadata": {
        "id": "V3jf74L3eunC",
        "outputId": "9bba18c9-0292-43b2-9546-28653751b559",
        "colab": {
          "base_uri": "https://localhost:8080/"
        }
      },
      "execution_count": 7,
      "outputs": [
        {
          "output_type": "stream",
          "name": "stdout",
          "text": [
            "Collecting gTTS\n",
            "  Downloading gTTS-2.5.1-py3-none-any.whl (29 kB)\n",
            "Requirement already satisfied: requests<3,>=2.27 in /usr/local/lib/python3.10/dist-packages (from gTTS) (2.31.0)\n",
            "Requirement already satisfied: click<8.2,>=7.1 in /usr/local/lib/python3.10/dist-packages (from gTTS) (8.1.7)\n",
            "Requirement already satisfied: charset-normalizer<4,>=2 in /usr/local/lib/python3.10/dist-packages (from requests<3,>=2.27->gTTS) (3.3.2)\n",
            "Requirement already satisfied: idna<4,>=2.5 in /usr/local/lib/python3.10/dist-packages (from requests<3,>=2.27->gTTS) (3.7)\n",
            "Requirement already satisfied: urllib3<3,>=1.21.1 in /usr/local/lib/python3.10/dist-packages (from requests<3,>=2.27->gTTS) (2.0.7)\n",
            "Requirement already satisfied: certifi>=2017.4.17 in /usr/local/lib/python3.10/dist-packages (from requests<3,>=2.27->gTTS) (2024.2.2)\n",
            "Installing collected packages: gTTS\n",
            "Successfully installed gTTS-2.5.1\n"
          ]
        }
      ]
    },
    {
      "cell_type": "code",
      "source": [
        "# Text to be converted to speech\n",
        "text = \"I have succeded in this task\"\n",
        "\n",
        "# Language in which you want to convert\n",
        "language = 'en'\n",
        "\n",
        "# Pass the text and language to the gTTS module\n",
        "speech = gTTS(text = text, lang = language, slow = False)\n",
        "\n",
        "# Save the converted audio file\n",
        "speech.save(\"output.mp3\")\n",
        "\n",
        "# Display the audio directly in the notebook\n",
        "display(Audio(\"output.mp3\", autoplay=True))"
      ],
      "metadata": {
        "colab": {
          "base_uri": "https://localhost:8080/",
          "height": 75
        },
        "id": "_ZBdjfGJlbPO",
        "outputId": "bd0ac142-62a1-4e7c-9a43-f45e53a502bf"
      },
      "execution_count": 8,
      "outputs": [
        {
          "output_type": "display_data",
          "data": {
            "text/plain": [
              "<IPython.lib.display.Audio object>"
            ],
            "text/html": [
              "\n",
              "                <audio  controls=\"controls\" autoplay=\"autoplay\">\n",
              "                    <source src=\"data:audio/mpeg;base64,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\" type=\"audio/mpeg\" />\n",
              "                    Your browser does not support the audio element.\n",
              "                </audio>\n",
              "              "
            ]
          },
          "metadata": {}
        }
      ]
    },
    {
      "cell_type": "markdown",
      "source": [
        "##Function Qustion(😍You got it!): 3/3"
      ],
      "metadata": {
        "id": "WJEoeGckeysx"
      }
    },
    {
      "cell_type": "code",
      "source": [
        "# Define a function for multiplication\n",
        "def division(x, y):\n",
        "    return x / y\n",
        "\n",
        "# Test the function\n",
        "result = division(20, 4)\n",
        "print(\"The result of multiplication is:\", result)"
      ],
      "metadata": {
        "colab": {
          "base_uri": "https://localhost:8080/"
        },
        "id": "kIMGpujVe1dR",
        "outputId": "aa445bc6-5f14-4ed5-fbd5-eff2ffa4acc8"
      },
      "execution_count": 9,
      "outputs": [
        {
          "output_type": "stream",
          "name": "stdout",
          "text": [
            "The result of multiplication is: 5.0\n"
          ]
        }
      ]
    },
    {
      "cell_type": "markdown",
      "source": [
        "##Dictionary Question(😍You got it!): 3/3"
      ],
      "metadata": {
        "id": "bx1tWSOmfIAC"
      }
    },
    {
      "cell_type": "code",
      "source": [
        "grades= {'Bob': 80, 'John': 75, 'Sally':100}\n",
        "name = grades[\"Bob\"]\n",
        "print(name)"
      ],
      "metadata": {
        "colab": {
          "base_uri": "https://localhost:8080/"
        },
        "id": "jRUcL7wTfNg5",
        "outputId": "9aa7c604-1e64-4364-8d32-773a81b226d5"
      },
      "execution_count": 10,
      "outputs": [
        {
          "output_type": "stream",
          "name": "stdout",
          "text": [
            "80\n"
          ]
        }
      ]
    },
    {
      "cell_type": "markdown",
      "source": [
        "##Audio Question (😅 You need to install 'gradio' package before you import it): 1/3\n"
      ],
      "metadata": {
        "id": "57VPcvHkf8HZ"
      }
    },
    {
      "cell_type": "code",
      "source": [
        "!pip install gradio #🚩 Suggested code"
      ],
      "metadata": {
        "id": "kVc4_0VEK9_k",
        "outputId": "05f162df-f250-473e-f9ed-b53ac71a9762",
        "colab": {
          "base_uri": "https://localhost:8080/"
        }
      },
      "execution_count": 13,
      "outputs": [
        {
          "output_type": "stream",
          "name": "stdout",
          "text": [
            "Collecting gradio\n",
            "  Downloading gradio-4.31.4-py3-none-any.whl (12.3 MB)\n",
            "\u001b[2K     \u001b[90m━━━━━━━━━━━━━━━━━━━━━━━━━━━━━━━━━━━━━━━━\u001b[0m \u001b[32m12.3/12.3 MB\u001b[0m \u001b[31m55.9 MB/s\u001b[0m eta \u001b[36m0:00:00\u001b[0m\n",
            "\u001b[?25hCollecting aiofiles<24.0,>=22.0 (from gradio)\n",
            "  Downloading aiofiles-23.2.1-py3-none-any.whl (15 kB)\n",
            "Requirement already satisfied: altair<6.0,>=4.2.0 in /usr/local/lib/python3.10/dist-packages (from gradio) (4.2.2)\n",
            "Collecting fastapi (from gradio)\n",
            "  Downloading fastapi-0.111.0-py3-none-any.whl (91 kB)\n",
            "\u001b[2K     \u001b[90m━━━━━━━━━━━━━━━━━━━━━━━━━━━━━━━━━━━━━━━━\u001b[0m \u001b[32m92.0/92.0 kB\u001b[0m \u001b[31m7.7 MB/s\u001b[0m eta \u001b[36m0:00:00\u001b[0m\n",
            "\u001b[?25hCollecting ffmpy (from gradio)\n",
            "  Downloading ffmpy-0.3.2.tar.gz (5.5 kB)\n",
            "  Preparing metadata (setup.py) ... \u001b[?25l\u001b[?25hdone\n",
            "Collecting gradio-client==0.16.4 (from gradio)\n",
            "  Downloading gradio_client-0.16.4-py3-none-any.whl (315 kB)\n",
            "\u001b[2K     \u001b[90m━━━━━━━━━━━━━━━━━━━━━━━━━━━━━━━━━━━━━━━━\u001b[0m \u001b[32m315.9/315.9 kB\u001b[0m \u001b[31m29.8 MB/s\u001b[0m eta \u001b[36m0:00:00\u001b[0m\n",
            "\u001b[?25hCollecting httpx>=0.24.1 (from gradio)\n",
            "  Downloading httpx-0.27.0-py3-none-any.whl (75 kB)\n",
            "\u001b[2K     \u001b[90m━━━━━━━━━━━━━━━━━━━━━━━━━━━━━━━━━━━━━━━━\u001b[0m \u001b[32m75.6/75.6 kB\u001b[0m \u001b[31m9.0 MB/s\u001b[0m eta \u001b[36m0:00:00\u001b[0m\n",
            "\u001b[?25hRequirement already satisfied: huggingface-hub>=0.19.3 in /usr/local/lib/python3.10/dist-packages (from gradio) (0.20.3)\n",
            "Requirement already satisfied: importlib-resources<7.0,>=1.3 in /usr/local/lib/python3.10/dist-packages (from gradio) (6.4.0)\n",
            "Requirement already satisfied: jinja2<4.0 in /usr/local/lib/python3.10/dist-packages (from gradio) (3.1.4)\n",
            "Requirement already satisfied: markupsafe~=2.0 in /usr/local/lib/python3.10/dist-packages (from gradio) (2.1.5)\n",
            "Requirement already satisfied: matplotlib~=3.0 in /usr/local/lib/python3.10/dist-packages (from gradio) (3.7.1)\n",
            "Requirement already satisfied: numpy~=1.0 in /usr/local/lib/python3.10/dist-packages (from gradio) (1.25.2)\n",
            "Collecting orjson~=3.0 (from gradio)\n",
            "  Downloading orjson-3.10.3-cp310-cp310-manylinux_2_17_x86_64.manylinux2014_x86_64.whl (142 kB)\n",
            "\u001b[2K     \u001b[90m━━━━━━━━━━━━━━━━━━━━━━━━━━━━━━━━━━━━━━━━\u001b[0m \u001b[32m142.5/142.5 kB\u001b[0m \u001b[31m18.0 MB/s\u001b[0m eta \u001b[36m0:00:00\u001b[0m\n",
            "\u001b[?25hRequirement already satisfied: packaging in /usr/local/lib/python3.10/dist-packages (from gradio) (24.0)\n",
            "Requirement already satisfied: pandas<3.0,>=1.0 in /usr/local/lib/python3.10/dist-packages (from gradio) (2.0.3)\n",
            "Requirement already satisfied: pillow<11.0,>=8.0 in /usr/local/lib/python3.10/dist-packages (from gradio) (9.4.0)\n",
            "Requirement already satisfied: pydantic>=2.0 in /usr/local/lib/python3.10/dist-packages (from gradio) (2.7.1)\n",
            "Collecting pydub (from gradio)\n",
            "  Downloading pydub-0.25.1-py2.py3-none-any.whl (32 kB)\n",
            "Collecting python-multipart>=0.0.9 (from gradio)\n",
            "  Downloading python_multipart-0.0.9-py3-none-any.whl (22 kB)\n",
            "Requirement already satisfied: pyyaml<7.0,>=5.0 in /usr/local/lib/python3.10/dist-packages (from gradio) (6.0.1)\n",
            "Collecting ruff>=0.2.2 (from gradio)\n",
            "  Downloading ruff-0.4.4-py3-none-manylinux_2_17_x86_64.manylinux2014_x86_64.whl (8.7 MB)\n",
            "\u001b[2K     \u001b[90m━━━━━━━━━━━━━━━━━━━━━━━━━━━━━━━━━━━━━━━━\u001b[0m \u001b[32m8.7/8.7 MB\u001b[0m \u001b[31m88.5 MB/s\u001b[0m eta \u001b[36m0:00:00\u001b[0m\n",
            "\u001b[?25hCollecting semantic-version~=2.0 (from gradio)\n",
            "  Downloading semantic_version-2.10.0-py2.py3-none-any.whl (15 kB)\n",
            "Collecting tomlkit==0.12.0 (from gradio)\n",
            "  Downloading tomlkit-0.12.0-py3-none-any.whl (37 kB)\n",
            "Collecting typer<1.0,>=0.12 (from gradio)\n",
            "  Downloading typer-0.12.3-py3-none-any.whl (47 kB)\n",
            "\u001b[2K     \u001b[90m━━━━━━━━━━━━━━━━━━━━━━━━━━━━━━━━━━━━━━━━\u001b[0m \u001b[32m47.2/47.2 kB\u001b[0m \u001b[31m5.2 MB/s\u001b[0m eta \u001b[36m0:00:00\u001b[0m\n",
            "\u001b[?25hRequirement already satisfied: typing-extensions~=4.0 in /usr/local/lib/python3.10/dist-packages (from gradio) (4.11.0)\n",
            "Requirement already satisfied: urllib3~=2.0 in /usr/local/lib/python3.10/dist-packages (from gradio) (2.0.7)\n",
            "Collecting uvicorn>=0.14.0 (from gradio)\n",
            "  Downloading uvicorn-0.29.0-py3-none-any.whl (60 kB)\n",
            "\u001b[2K     \u001b[90m━━━━━━━━━━━━━━━━━━━━━━━━━━━━━━━━━━━━━━━━\u001b[0m \u001b[32m60.8/60.8 kB\u001b[0m \u001b[31m7.0 MB/s\u001b[0m eta \u001b[36m0:00:00\u001b[0m\n",
            "\u001b[?25hRequirement already satisfied: fsspec in /usr/local/lib/python3.10/dist-packages (from gradio-client==0.16.4->gradio) (2023.6.0)\n",
            "Collecting websockets<12.0,>=10.0 (from gradio-client==0.16.4->gradio)\n",
            "  Downloading websockets-11.0.3-cp310-cp310-manylinux_2_5_x86_64.manylinux1_x86_64.manylinux_2_17_x86_64.manylinux2014_x86_64.whl (129 kB)\n",
            "\u001b[2K     \u001b[90m━━━━━━━━━━━━━━━━━━━━━━━━━━━━━━━━━━━━━━━━\u001b[0m \u001b[32m129.9/129.9 kB\u001b[0m \u001b[31m14.8 MB/s\u001b[0m eta \u001b[36m0:00:00\u001b[0m\n",
            "\u001b[?25hRequirement already satisfied: entrypoints in /usr/local/lib/python3.10/dist-packages (from altair<6.0,>=4.2.0->gradio) (0.4)\n",
            "Requirement already satisfied: jsonschema>=3.0 in /usr/local/lib/python3.10/dist-packages (from altair<6.0,>=4.2.0->gradio) (4.19.2)\n",
            "Requirement already satisfied: toolz in /usr/local/lib/python3.10/dist-packages (from altair<6.0,>=4.2.0->gradio) (0.12.1)\n",
            "Requirement already satisfied: anyio in /usr/local/lib/python3.10/dist-packages (from httpx>=0.24.1->gradio) (3.7.1)\n",
            "Requirement already satisfied: certifi in /usr/local/lib/python3.10/dist-packages (from httpx>=0.24.1->gradio) (2024.2.2)\n",
            "Collecting httpcore==1.* (from httpx>=0.24.1->gradio)\n",
            "  Downloading httpcore-1.0.5-py3-none-any.whl (77 kB)\n",
            "\u001b[2K     \u001b[90m━━━━━━━━━━━━━━━━━━━━━━━━━━━━━━━━━━━━━━━━\u001b[0m \u001b[32m77.9/77.9 kB\u001b[0m \u001b[31m9.4 MB/s\u001b[0m eta \u001b[36m0:00:00\u001b[0m\n",
            "\u001b[?25hRequirement already satisfied: idna in /usr/local/lib/python3.10/dist-packages (from httpx>=0.24.1->gradio) (3.7)\n",
            "Requirement already satisfied: sniffio in /usr/local/lib/python3.10/dist-packages (from httpx>=0.24.1->gradio) (1.3.1)\n",
            "Collecting h11<0.15,>=0.13 (from httpcore==1.*->httpx>=0.24.1->gradio)\n",
            "  Downloading h11-0.14.0-py3-none-any.whl (58 kB)\n",
            "\u001b[2K     \u001b[90m━━━━━━━━━━━━━━━━━━━━━━━━━━━━━━━━━━━━━━━━\u001b[0m \u001b[32m58.3/58.3 kB\u001b[0m \u001b[31m6.4 MB/s\u001b[0m eta \u001b[36m0:00:00\u001b[0m\n",
            "\u001b[?25hRequirement already satisfied: filelock in /usr/local/lib/python3.10/dist-packages (from huggingface-hub>=0.19.3->gradio) (3.14.0)\n",
            "Requirement already satisfied: requests in /usr/local/lib/python3.10/dist-packages (from huggingface-hub>=0.19.3->gradio) (2.31.0)\n",
            "Requirement already satisfied: tqdm>=4.42.1 in /usr/local/lib/python3.10/dist-packages (from huggingface-hub>=0.19.3->gradio) (4.66.4)\n",
            "Requirement already satisfied: contourpy>=1.0.1 in /usr/local/lib/python3.10/dist-packages (from matplotlib~=3.0->gradio) (1.2.1)\n",
            "Requirement already satisfied: cycler>=0.10 in /usr/local/lib/python3.10/dist-packages (from matplotlib~=3.0->gradio) (0.12.1)\n",
            "Requirement already satisfied: fonttools>=4.22.0 in /usr/local/lib/python3.10/dist-packages (from matplotlib~=3.0->gradio) (4.51.0)\n",
            "Requirement already satisfied: kiwisolver>=1.0.1 in /usr/local/lib/python3.10/dist-packages (from matplotlib~=3.0->gradio) (1.4.5)\n",
            "Requirement already satisfied: pyparsing>=2.3.1 in /usr/local/lib/python3.10/dist-packages (from matplotlib~=3.0->gradio) (3.1.2)\n",
            "Requirement already satisfied: python-dateutil>=2.7 in /usr/local/lib/python3.10/dist-packages (from matplotlib~=3.0->gradio) (2.8.2)\n",
            "Requirement already satisfied: pytz>=2020.1 in /usr/local/lib/python3.10/dist-packages (from pandas<3.0,>=1.0->gradio) (2023.4)\n",
            "Requirement already satisfied: tzdata>=2022.1 in /usr/local/lib/python3.10/dist-packages (from pandas<3.0,>=1.0->gradio) (2024.1)\n",
            "Requirement already satisfied: annotated-types>=0.4.0 in /usr/local/lib/python3.10/dist-packages (from pydantic>=2.0->gradio) (0.6.0)\n",
            "Requirement already satisfied: pydantic-core==2.18.2 in /usr/local/lib/python3.10/dist-packages (from pydantic>=2.0->gradio) (2.18.2)\n",
            "Requirement already satisfied: click>=8.0.0 in /usr/local/lib/python3.10/dist-packages (from typer<1.0,>=0.12->gradio) (8.1.7)\n",
            "Collecting shellingham>=1.3.0 (from typer<1.0,>=0.12->gradio)\n",
            "  Downloading shellingham-1.5.4-py2.py3-none-any.whl (9.8 kB)\n",
            "Requirement already satisfied: rich>=10.11.0 in /usr/local/lib/python3.10/dist-packages (from typer<1.0,>=0.12->gradio) (13.7.1)\n",
            "Collecting starlette<0.38.0,>=0.37.2 (from fastapi->gradio)\n",
            "  Downloading starlette-0.37.2-py3-none-any.whl (71 kB)\n",
            "\u001b[2K     \u001b[90m━━━━━━━━━━━━━━━━━━━━━━━━━━━━━━━━━━━━━━━━\u001b[0m \u001b[32m71.9/71.9 kB\u001b[0m \u001b[31m7.9 MB/s\u001b[0m eta \u001b[36m0:00:00\u001b[0m\n",
            "\u001b[?25hCollecting fastapi-cli>=0.0.2 (from fastapi->gradio)\n",
            "  Downloading fastapi_cli-0.0.3-py3-none-any.whl (9.2 kB)\n",
            "Collecting ujson!=4.0.2,!=4.1.0,!=4.2.0,!=4.3.0,!=5.0.0,!=5.1.0,>=4.0.1 (from fastapi->gradio)\n",
            "  Downloading ujson-5.10.0-cp310-cp310-manylinux_2_17_x86_64.manylinux2014_x86_64.whl (53 kB)\n",
            "\u001b[2K     \u001b[90m━━━━━━━━━━━━━━━━━━━━━━━━━━━━━━━━━━━━━━━━\u001b[0m \u001b[32m53.6/53.6 kB\u001b[0m \u001b[31m6.0 MB/s\u001b[0m eta \u001b[36m0:00:00\u001b[0m\n",
            "\u001b[?25hCollecting email_validator>=2.0.0 (from fastapi->gradio)\n",
            "  Downloading email_validator-2.1.1-py3-none-any.whl (30 kB)\n",
            "Collecting dnspython>=2.0.0 (from email_validator>=2.0.0->fastapi->gradio)\n",
            "  Downloading dnspython-2.6.1-py3-none-any.whl (307 kB)\n",
            "\u001b[2K     \u001b[90m━━━━━━━━━━━━━━━━━━━━━━━━━━━━━━━━━━━━━━━━\u001b[0m \u001b[32m307.7/307.7 kB\u001b[0m \u001b[31m30.6 MB/s\u001b[0m eta \u001b[36m0:00:00\u001b[0m\n",
            "\u001b[?25hRequirement already satisfied: attrs>=22.2.0 in /usr/local/lib/python3.10/dist-packages (from jsonschema>=3.0->altair<6.0,>=4.2.0->gradio) (23.2.0)\n",
            "Requirement already satisfied: jsonschema-specifications>=2023.03.6 in /usr/local/lib/python3.10/dist-packages (from jsonschema>=3.0->altair<6.0,>=4.2.0->gradio) (2023.12.1)\n",
            "Requirement already satisfied: referencing>=0.28.4 in /usr/local/lib/python3.10/dist-packages (from jsonschema>=3.0->altair<6.0,>=4.2.0->gradio) (0.35.1)\n",
            "Requirement already satisfied: rpds-py>=0.7.1 in /usr/local/lib/python3.10/dist-packages (from jsonschema>=3.0->altair<6.0,>=4.2.0->gradio) (0.18.1)\n",
            "Requirement already satisfied: six>=1.5 in /usr/local/lib/python3.10/dist-packages (from python-dateutil>=2.7->matplotlib~=3.0->gradio) (1.16.0)\n",
            "Requirement already satisfied: markdown-it-py>=2.2.0 in /usr/local/lib/python3.10/dist-packages (from rich>=10.11.0->typer<1.0,>=0.12->gradio) (3.0.0)\n",
            "Requirement already satisfied: pygments<3.0.0,>=2.13.0 in /usr/local/lib/python3.10/dist-packages (from rich>=10.11.0->typer<1.0,>=0.12->gradio) (2.16.1)\n",
            "Requirement already satisfied: exceptiongroup in /usr/local/lib/python3.10/dist-packages (from anyio->httpx>=0.24.1->gradio) (1.2.1)\n",
            "Collecting httptools>=0.5.0 (from uvicorn>=0.14.0->gradio)\n",
            "  Downloading httptools-0.6.1-cp310-cp310-manylinux_2_5_x86_64.manylinux1_x86_64.manylinux_2_17_x86_64.manylinux2014_x86_64.whl (341 kB)\n",
            "\u001b[2K     \u001b[90m━━━━━━━━━━━━━━━━━━━━━━━━━━━━━━━━━━━━━━━━\u001b[0m \u001b[32m341.4/341.4 kB\u001b[0m \u001b[31m32.7 MB/s\u001b[0m eta \u001b[36m0:00:00\u001b[0m\n",
            "\u001b[?25hCollecting python-dotenv>=0.13 (from uvicorn>=0.14.0->gradio)\n",
            "  Downloading python_dotenv-1.0.1-py3-none-any.whl (19 kB)\n",
            "Collecting uvloop!=0.15.0,!=0.15.1,>=0.14.0 (from uvicorn>=0.14.0->gradio)\n",
            "  Downloading uvloop-0.19.0-cp310-cp310-manylinux_2_17_x86_64.manylinux2014_x86_64.whl (3.4 MB)\n",
            "\u001b[2K     \u001b[90m━━━━━━━━━━━━━━━━━━━━━━━━━━━━━━━━━━━━━━━━\u001b[0m \u001b[32m3.4/3.4 MB\u001b[0m \u001b[31m90.2 MB/s\u001b[0m eta \u001b[36m0:00:00\u001b[0m\n",
            "\u001b[?25hCollecting watchfiles>=0.13 (from uvicorn>=0.14.0->gradio)\n",
            "  Downloading watchfiles-0.21.0-cp310-cp310-manylinux_2_17_x86_64.manylinux2014_x86_64.whl (1.3 MB)\n",
            "\u001b[2K     \u001b[90m━━━━━━━━━━━━━━━━━━━━━━━━━━━━━━━━━━━━━━━━\u001b[0m \u001b[32m1.3/1.3 MB\u001b[0m \u001b[31m71.5 MB/s\u001b[0m eta \u001b[36m0:00:00\u001b[0m\n",
            "\u001b[?25hRequirement already satisfied: charset-normalizer<4,>=2 in /usr/local/lib/python3.10/dist-packages (from requests->huggingface-hub>=0.19.3->gradio) (3.3.2)\n",
            "Requirement already satisfied: mdurl~=0.1 in /usr/local/lib/python3.10/dist-packages (from markdown-it-py>=2.2.0->rich>=10.11.0->typer<1.0,>=0.12->gradio) (0.1.2)\n",
            "Building wheels for collected packages: ffmpy\n",
            "  Building wheel for ffmpy (setup.py) ... \u001b[?25l\u001b[?25hdone\n",
            "  Created wheel for ffmpy: filename=ffmpy-0.3.2-py3-none-any.whl size=5584 sha256=3f6bb71c38918796a74d96584c0f1e6def97fa9a25a6e34a29d0d5491170947d\n",
            "  Stored in directory: /root/.cache/pip/wheels/bd/65/9a/671fc6dcde07d4418df0c592f8df512b26d7a0029c2a23dd81\n",
            "Successfully built ffmpy\n",
            "Installing collected packages: pydub, ffmpy, websockets, uvloop, ujson, tomlkit, shellingham, semantic-version, ruff, python-multipart, python-dotenv, orjson, httptools, h11, dnspython, aiofiles, watchfiles, uvicorn, starlette, httpcore, email_validator, typer, httpx, gradio-client, fastapi-cli, fastapi, gradio\n",
            "  Attempting uninstall: typer\n",
            "    Found existing installation: typer 0.9.4\n",
            "    Uninstalling typer-0.9.4:\n",
            "      Successfully uninstalled typer-0.9.4\n",
            "\u001b[31mERROR: pip's dependency resolver does not currently take into account all the packages that are installed. This behaviour is the source of the following dependency conflicts.\n",
            "spacy 3.7.4 requires typer<0.10.0,>=0.3.0, but you have typer 0.12.3 which is incompatible.\n",
            "weasel 0.3.4 requires typer<0.10.0,>=0.3.0, but you have typer 0.12.3 which is incompatible.\u001b[0m\u001b[31m\n",
            "\u001b[0mSuccessfully installed aiofiles-23.2.1 dnspython-2.6.1 email_validator-2.1.1 fastapi-0.111.0 fastapi-cli-0.0.3 ffmpy-0.3.2 gradio-4.31.4 gradio-client-0.16.4 h11-0.14.0 httpcore-1.0.5 httptools-0.6.1 httpx-0.27.0 orjson-3.10.3 pydub-0.25.1 python-dotenv-1.0.1 python-multipart-0.0.9 ruff-0.4.4 semantic-version-2.10.0 shellingham-1.5.4 starlette-0.37.2 tomlkit-0.12.0 typer-0.12.3 ujson-5.10.0 uvicorn-0.29.0 uvloop-0.19.0 watchfiles-0.21.0 websockets-11.0.3\n"
          ]
        }
      ]
    },
    {
      "cell_type": "code",
      "source": [
        "import gradio as gr\n",
        "from gtts import gTTS\n",
        "import os\n",
        "\n",
        "def text_to_speech(text, language):\n",
        "    lang_code = 'en' if language == \"English\" else 'ko'\n",
        "    tts = gTTS(text=text, lang=lang_code, slow=False)\n",
        "    tts.save(\"output.mp3\")\n",
        "    return \"output.mp3\"\n",
        "\n",
        "interface = gr.Interface(\n",
        "    fn=text_to_speech,\n",
        "    inputs=[\n",
        "        gr.Textbox(lines=3, label=\"Enter text\"),\n",
        "        gr.Radio(choices=[\"English\", \"Korean\"], label=\"Select language\")\n",
        "    ],\n",
        "    outputs=gr.Audio(type=\"filepath\", label=\"Audio\"),\n",
        "    title=\"Text-to-Speech\",\n",
        "    description=\"Type in some text, select a language, and generate audio.\",\n",
        ")\n",
        "\n",
        "interface.launch()\n"
      ],
      "metadata": {
        "id": "6h-9BLi0gB_6",
        "outputId": "e45233fb-bfe9-4ce8-e502-928a5feb5483",
        "colab": {
          "base_uri": "https://localhost:8080/",
          "height": 625
        }
      },
      "execution_count": 14,
      "outputs": [
        {
          "output_type": "stream",
          "name": "stdout",
          "text": [
            "Setting queue=True in a Colab notebook requires sharing enabled. Setting `share=True` (you can turn this off by setting `share=False` in `launch()` explicitly).\n",
            "\n",
            "Colab notebook detected. To show errors in colab notebook, set debug=True in launch()\n",
            "Running on public URL: https://0039258b1fc2aa0106.gradio.live\n",
            "\n",
            "This share link expires in 72 hours. For free permanent hosting and GPU upgrades, run `gradio deploy` from Terminal to deploy to Spaces (https://huggingface.co/spaces)\n"
          ]
        },
        {
          "output_type": "display_data",
          "data": {
            "text/plain": [
              "<IPython.core.display.HTML object>"
            ],
            "text/html": [
              "<div><iframe src=\"https://0039258b1fc2aa0106.gradio.live\" width=\"100%\" height=\"500\" allow=\"autoplay; camera; microphone; clipboard-read; clipboard-write;\" frameborder=\"0\" allowfullscreen></iframe></div>"
            ]
          },
          "metadata": {}
        },
        {
          "output_type": "execute_result",
          "data": {
            "text/plain": []
          },
          "metadata": {},
          "execution_count": 14
        }
      ]
    },
    {
      "cell_type": "markdown",
      "source": [
        "##Countdown Question(😅 You need to install 'gradio' package before you import it): 1/3"
      ],
      "metadata": {
        "id": "jQL8aEqigHro"
      }
    },
    {
      "cell_type": "code",
      "source": [
        "!pip install gradio #🚩 Suggested code"
      ],
      "metadata": {
        "id": "e-cbBuZBK3tC"
      },
      "execution_count": null,
      "outputs": []
    },
    {
      "cell_type": "code",
      "source": [
        "import gradio as gr\n",
        "from datetime import datetime\n",
        "\n",
        "def countdown(target_date):\n",
        "    try:\n",
        "        # Parse the user input date\n",
        "        date_format = \"%Y-%m-%d\"\n",
        "        future_date = datetime.strptime(target_date, date_format)\n",
        "\n",
        "        # Get the current time\n",
        "        now = datetime.now()\n",
        "\n",
        "        # Calculate the difference between the future date and the current time\n",
        "        countdown = future_date - now\n",
        "\n",
        "        # Generate the countdown message\n",
        "        if countdown.days >= 0:\n",
        "            return f\"Time until {target_date}: \\n {countdown.days} days, {countdown.seconds//3600} hours, {(countdown.seconds//60)%60} minutes.\"\n",
        "        else:\n",
        "            return \"The specified date has already passed.\"\n",
        "    except ValueError:\n",
        "        return \"Please enter the date in YYYY-MM-DD format.\"\n",
        "\n",
        "# Create the Gradio interface\n",
        "interface = gr.Interface(\n",
        "    fn=countdown,\n",
        "    inputs=gr.Text(label=\"Enter a future date (e.g., 2024-12-25)\"),\n",
        "    outputs=\"text\",\n",
        "    title=\"Date Countdown\",\n",
        "    description=\"Enter a date to see how many days, hours, and minutes are left until the designated date.\"\n",
        ")\n",
        "\n",
        "interface.launch()"
      ],
      "metadata": {
        "id": "DSkot4RSgK6Q",
        "outputId": "df9f87de-3453-4ae6-d337-86d409e19fef",
        "colab": {
          "base_uri": "https://localhost:8080/",
          "height": 625
        }
      },
      "execution_count": 15,
      "outputs": [
        {
          "output_type": "stream",
          "name": "stdout",
          "text": [
            "Setting queue=True in a Colab notebook requires sharing enabled. Setting `share=True` (you can turn this off by setting `share=False` in `launch()` explicitly).\n",
            "\n",
            "Colab notebook detected. To show errors in colab notebook, set debug=True in launch()\n",
            "Running on public URL: https://88f701342c10046c6c.gradio.live\n",
            "\n",
            "This share link expires in 72 hours. For free permanent hosting and GPU upgrades, run `gradio deploy` from Terminal to deploy to Spaces (https://huggingface.co/spaces)\n"
          ]
        },
        {
          "output_type": "display_data",
          "data": {
            "text/plain": [
              "<IPython.core.display.HTML object>"
            ],
            "text/html": [
              "<div><iframe src=\"https://88f701342c10046c6c.gradio.live\" width=\"100%\" height=\"500\" allow=\"autoplay; camera; microphone; clipboard-read; clipboard-write;\" frameborder=\"0\" allowfullscreen></iframe></div>"
            ]
          },
          "metadata": {}
        },
        {
          "output_type": "execute_result",
          "data": {
            "text/plain": []
          },
          "metadata": {},
          "execution_count": 15
        }
      ]
    },
    {
      "cell_type": "markdown",
      "source": [
        "---\n",
        "The END"
      ],
      "metadata": {
        "id": "iSvi9rMeLiEf"
      }
    }
  ]
}